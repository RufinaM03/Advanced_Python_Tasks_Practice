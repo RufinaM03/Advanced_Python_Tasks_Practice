{
 "cells": [
  {
   "cell_type": "markdown",
   "id": "32b604ae-99ae-431c-a841-bc6ad9ffdffd",
   "metadata": {},
   "source": [
    "Array Attributes:\n",
    "ndim = rank (dimensions).\n",
    "\n",
    "shape = tuple of dimensions.\n",
    "\n",
    "size = total number of elements."
   ]
  },
  {
   "cell_type": "code",
   "execution_count": 1,
   "id": "40d723fc-f997-484f-8bc3-67f3d2c366b4",
   "metadata": {},
   "outputs": [
    {
     "name": "stdout",
     "output_type": "stream",
     "text": [
      "Array:\n",
      " [[ 0  1  2  3]\n",
      " [ 4  5  6  7]\n",
      " [ 8  9 10 11]]\n",
      "ndim  : 2\n",
      "shape : (3, 4)\n",
      "size  : 12\n",
      "dtype : int64\n"
     ]
    }
   ],
   "source": [
    "import numpy as np\n",
    "\n",
    "arr = np.arange(12).reshape(3, 4)\n",
    "\n",
    "print(\"Array:\\n\", arr)\n",
    "print(\"ndim  :\", arr.ndim)   # Number of dimensions\n",
    "print(\"shape :\", arr.shape)  # Rows, Columns\n",
    "print(\"size  :\", arr.size)   # Total elements\n",
    "print(\"dtype :\", arr.dtype)  # Data type"
   ]
  },
  {
   "cell_type": "code",
   "execution_count": 2,
   "id": "884d4987-2a82-434b-8cad-08ca6aec18e1",
   "metadata": {},
   "outputs": [
    {
     "name": "stdout",
     "output_type": "stream",
     "text": [
      "[1 2 3 4]\n"
     ]
    }
   ],
   "source": [
    "arr = np.array([1, 2, 3, 4])\n",
    "print(arr)"
   ]
  },
  {
   "cell_type": "markdown",
   "id": "32d36a35-2b37-44d7-9e0e-1aea8a989b8c",
   "metadata": {},
   "source": [
    "`np.eye`\n",
    " Creates a **2D identity-like array**.\n",
    " \n",
    " Ones on the *k-th diagonal*, zeros elsewhere.\n",
    " \n",
    " Parameters:\n",
    " \n",
    "   `N` → number of rows\n",
    "   \n",
    "   `M` → number of columns (defaults to `N`)\n",
    "   \n",
    "   `k` → index of diagonal (0 = main, >0 above, <0 below)"
   ]
  },
  {
   "cell_type": "code",
   "execution_count": 3,
   "id": "4ab2fe04-9c54-41e7-96eb-346f0b57e994",
   "metadata": {},
   "outputs": [
    {
     "name": "stdout",
     "output_type": "stream",
     "text": [
      "[[1. 0. 0. 0.]\n",
      " [0. 1. 0. 0.]\n",
      " [0. 0. 1. 0.]\n",
      " [0. 0. 0. 1.]]\n"
     ]
    }
   ],
   "source": [
    "I = np.eye(4)\n",
    "print(I)"
   ]
  },
  {
   "cell_type": "markdown",
   "id": "c1eb6848-c01f-4a84-bb45-a7963cc7e757",
   "metadata": {},
   "source": [
    "\n",
    "**np.linspace(start, stop, num=50, endpoint=True, retstep=False, dtype=None, axis=0, *, device=None)**\n",
    "\n",
    "From NumPy How to Partition / Array Creation Routines and the linspace doc.\n",
    "\n",
    "Returns num evenly spaced samples over the interval [start, stop] (inclusive by default) \n",
    "\n",
    "If endpoint=False, the stop is not included; this changes the step size accordingly. \n",
    "\n",
    "If retstep=True, returns a tuple (samples, step) where step is the spacing between samples. \n",
    "\n",
    "The dtype, if not provided, is inferred from start and stop. \n",
    "If integer types are used, behavior was changed in recent versions (rounding toward –∞ instead of 0) when casting. \n",
    "\n",
    "Good when we want a fixed number of points in an interval, especially for plotting. If you want a specific step size, arange can be used but may cause floating point rounding issues"
   ]
  },
  {
   "cell_type": "code",
   "execution_count": 4,
   "id": "425f578e-a783-4a51-bbb6-a652920013ea",
   "metadata": {},
   "outputs": [
    {
     "name": "stdout",
     "output_type": "stream",
     "text": [
      "[0.   0.25 0.5  0.75 1.  ]\n"
     ]
    }
   ],
   "source": [
    "arr = np.linspace(0, 1, 5)  # 5 points between 0 and 1\n",
    "print(arr)"
   ]
  },
  {
   "cell_type": "markdown",
   "id": "9bc3768d-3f14-48c9-b78d-66173df3bbbb",
   "metadata": {},
   "source": [
    "`np.arange`\n",
    "- Returns values in `[start, stop)` with given `step`.\n",
    "- Faster and simpler than `linspace` for integer steps.\n",
    "- Floating-point `step` may cause rounding issues.\n",
    "- Use `linspace` if you need an exact number of points."
   ]
  },
  {
   "cell_type": "code",
   "execution_count": 5,
   "id": "63f7e048-d062-4c10-b295-2106f8038bcc",
   "metadata": {},
   "outputs": [
    {
     "name": "stdout",
     "output_type": "stream",
     "text": [
      "[0 2 4 6 8]\n"
     ]
    }
   ],
   "source": [
    "arr = np.arange(0, 10, 2)\n",
    "print(arr)"
   ]
  },
  {
   "cell_type": "markdown",
   "id": "bad000a1-0d88-40fb-954f-0958fc20489c",
   "metadata": {},
   "source": [
    "`np.zeros` & `np.ones`\n",
    "- Return arrays filled with `0`s or `1`s.\n",
    "- Default dtype: `float64`.\n",
    "- Shape must be provided as a tuple.\n",
    "- Useful for initialization before filling with data."
   ]
  },
  {
   "cell_type": "code",
   "execution_count": 6,
   "id": "7192c603-1d08-4b65-b747-4d9c065cb35f",
   "metadata": {},
   "outputs": [
    {
     "name": "stdout",
     "output_type": "stream",
     "text": [
      "[[0. 0. 0.]\n",
      " [0. 0. 0.]] \n",
      " [[1. 1. 1.]\n",
      " [1. 1. 1.]\n",
      " [1. 1. 1.]]\n"
     ]
    }
   ],
   "source": [
    "zeros = np.zeros((2, 3))\n",
    "ones = np.ones((3, 3))\n",
    "print(zeros, \"\\n\", ones)"
   ]
  },
  {
   "cell_type": "markdown",
   "id": "2fd68acd-d83d-4298-ac04-0b9927062396",
   "metadata": {},
   "source": [
    "`np.random`\n",
    "- Random sampling functions:\n",
    "  - `rand(m, n)` → uniform in [0,1)\n",
    "  - `randn(m, n)` → standard normal (mean=0, std=1)\n",
    "  - `randint(low, high, size)` → random integers\n",
    "- Use `np.random.seed()` for reproducibility."
   ]
  },
  {
   "cell_type": "code",
   "execution_count": 7,
   "id": "60722b80-d6f8-4792-9b96-799bd75b0866",
   "metadata": {},
   "outputs": [
    {
     "name": "stdout",
     "output_type": "stream",
     "text": [
      "[[0.15635049 0.59326071 0.92786909]\n",
      " [0.92218059 0.94993722 0.17763221]] \n",
      " [[-0.20406288  0.74748389 -0.72698872]\n",
      " [-0.47560112 -1.22968783  1.89112011]] \n",
      " [[8 3 3]\n",
      " [1 7 5]]\n"
     ]
    }
   ],
   "source": [
    "rand_uniform = np.random.rand(2, 3)   # Uniform [0,1)\n",
    "rand_normal  = np.random.randn(2, 3)  # Standard Normal\n",
    "rand_ints    = np.random.randint(0, 10, (2, 3)) # Random integers\n",
    "print(rand_uniform, \"\\n\", rand_normal, \"\\n\", rand_ints)"
   ]
  },
  {
   "cell_type": "markdown",
   "id": "0e3444da-111d-4f24-b68f-27835c375f02",
   "metadata": {},
   "source": [
    " `np.diag`\n",
    "- If input is **1D**: creates a 2D diagonal matrix.\n",
    "- If input is **2D**: extracts the k-th diagonal.\n",
    "- `k=0` → main diagonal, positive above, negative below."
   ]
  },
  {
   "cell_type": "code",
   "execution_count": 8,
   "id": "d4e2cc55-07d6-4870-a19a-1ad24e116691",
   "metadata": {},
   "outputs": [
    {
     "name": "stdout",
     "output_type": "stream",
     "text": [
      "[[1 0 0]\n",
      " [0 2 0]\n",
      " [0 0 3]]\n"
     ]
    }
   ],
   "source": [
    "d = np.diag([1, 2, 3])\n",
    "print(d)"
   ]
  },
  {
   "cell_type": "code",
   "execution_count": 33,
   "id": "119c399d-80c5-4527-ac5d-cb2dd0f3e310",
   "metadata": {},
   "outputs": [
    {
     "name": "stdout",
     "output_type": "stream",
     "text": [
      "[1 5 9]\n"
     ]
    }
   ],
   "source": [
    "arr2d = np.array([[1, 2, 3],\n",
    "                  [4, 5, 6],\n",
    "                  [7, 8, 9]])\n",
    "\n",
    "d = np.diag(arr2d)   # Extracts the main diagonal\n",
    "print(d)"
   ]
  },
  {
   "cell_type": "markdown",
   "id": "7b6196f2-a59a-45ec-bfb0-b85a3a870bab",
   "metadata": {},
   "source": [
    " `np.indices`\n",
    "- Generates a grid of indices for given shape.\n",
    "- Returns array of shape `(len(dimensions),) + dimensions`.\n",
    "- If `sparse=True`, returns tuple of sparse index arrays (saves memory).\n",
    "- Useful in **image processing & coordinate grids**."
   ]
  },
  {
   "cell_type": "code",
   "execution_count": 9,
   "id": "066c3f09-5981-4798-aa98-225d200d7e01",
   "metadata": {},
   "outputs": [
    {
     "name": "stdout",
     "output_type": "stream",
     "text": [
      "Row indices:\n",
      " [[0 0 0]\n",
      " [1 1 1]\n",
      " [2 2 2]]\n",
      "Column indices:\n",
      " [[0 1 2]\n",
      " [0 1 2]\n",
      " [0 1 2]]\n"
     ]
    }
   ],
   "source": [
    "idx = np.indices((3, 3))\n",
    "print(\"Row indices:\\n\", idx[0])\n",
    "print(\"Column indices:\\n\", idx[1])"
   ]
  },
  {
   "cell_type": "markdown",
   "id": "d2ef68a5-0c75-438d-8a1d-5e7f23cbe28f",
   "metadata": {},
   "source": [
    " Quick Reminders\n",
    "- `np.linspace` → safer for float intervals.  \n",
    "- `np.arange` → better for integer steps.  \n",
    "- Default dtype is often `float64` (unless specified).  \n",
    "- `order='C'` (row-major) vs `order='F'` (column-major) matters for memory layout.\n",
    "\n",
    "np.array → Convert Python list → NumPy array.\n",
    "\n",
    "np.eye → Identity matrix.\n",
    "\n",
    "np.linspace → Evenly spaced values (good for plotting).\n",
    "\n",
    "np.arange → Range with step (watch out for float rounding).\n",
    "\n",
    "np.zeros & np.ones → Quick initialization.\n",
    "\n",
    "np.random → Random sampling (set seed for reproducibility).\n",
    "\n",
    "np.diag → Build/extract diagonals.\n",
    "\n",
    "np.indices → Generate coordinate grids."
   ]
  },
  {
   "cell_type": "markdown",
   "id": "1b46205c-64d0-42b8-a103-e1fe764c8a77",
   "metadata": {},
   "source": [
    "Note:\n",
    "\n",
    "Vandermonde matrix often used in polynomial fitting.\n",
    "\n",
    "Each row is powers of input vector."
   ]
  },
  {
   "cell_type": "code",
   "execution_count": 10,
   "id": "2169e59a-fca6-44f9-a258-244f682e8976",
   "metadata": {},
   "outputs": [
    {
     "name": "stdout",
     "output_type": "stream",
     "text": [
      "[[  1   1   1   1]\n",
      " [  1   2   4   8]\n",
      " [  1   3   9  27]\n",
      " [  1   5  25 125]]\n"
     ]
    }
   ],
   "source": [
    "x = np.array([1, 2, 3, 5])\n",
    "V = np.vander(x, N=4, increasing=True)\n",
    "print(V)"
   ]
  },
  {
   "cell_type": "markdown",
   "id": "dd9a2ef0-589c-4c8f-a773-7a962373c2fd",
   "metadata": {},
   "source": [
    "Indexing and Slicing"
   ]
  },
  {
   "cell_type": "code",
   "execution_count": 35,
   "id": "4edebdd3-d2f5-4da4-941e-26f9ebf9bb37",
   "metadata": {},
   "outputs": [
    {
     "name": "stdout",
     "output_type": "stream",
     "text": [
      "0\n",
      "9\n",
      "[2 3 4 5]\n",
      "[0 2 4 6 8]\n"
     ]
    }
   ],
   "source": [
    "# 1D Example\n",
    "arr = np.arange(10)\n",
    "print(arr[0])     # First element\n",
    "print(arr[-1])    # Last element\n",
    "print(arr[2:6])   # Slice\n",
    "print(arr[::2])   # Every 2nd element"
   ]
  },
  {
   "cell_type": "code",
   "execution_count": 36,
   "id": "cb5f927e-b735-4116-bc68-fb67fd7aceb9",
   "metadata": {},
   "outputs": [
    {
     "name": "stdout",
     "output_type": "stream",
     "text": [
      "[[ 1  2  3  4]\n",
      " [ 5  6  7  8]\n",
      " [ 9 10 11 12]]\n",
      "7\n",
      "[5 6 7 8]\n",
      "[ 3  7 11]\n",
      "[[2 3]\n",
      " [6 7]]\n"
     ]
    }
   ],
   "source": [
    "#2D Example\n",
    "arr = np.arange(1, 13).reshape(3, 4)\n",
    "print(arr)\n",
    "\n",
    "print(arr[1, 2])      # Single element\n",
    "print(arr[1, :])      # Entire row\n",
    "print(arr[:, 2])      # Entire column\n",
    "print(arr[0:2, 1:3])  # Subarray"
   ]
  },
  {
   "cell_type": "markdown",
   "id": "4c26fb84-79a8-4b68-ab70-f88652190c55",
   "metadata": {},
   "source": [
    "Creating Multidimensional Arrays\n",
    "\n",
    "Note: NumPy can handle N-dimensional arrays. .shape shows dimensions."
   ]
  },
  {
   "cell_type": "code",
   "execution_count": 37,
   "id": "a7d2d925-b016-492e-ad31-cd4ca4ca3415",
   "metadata": {},
   "outputs": [
    {
     "name": "stdout",
     "output_type": "stream",
     "text": [
      "(2, 2, 2)\n",
      "4\n"
     ]
    }
   ],
   "source": [
    "arr3d = np.array([[[1, 2], [3, 4]], \n",
    "                  [[5, 6], [7, 8]]])\n",
    "\n",
    "print(arr3d.shape)   # (2, 2, 2)\n",
    "print(arr3d[0, 1, 1])  # Accessing element (4)"
   ]
  }
 ],
 "metadata": {
  "kernelspec": {
   "display_name": "Python 3 (ipykernel)",
   "language": "python",
   "name": "python3"
  },
  "language_info": {
   "codemirror_mode": {
    "name": "ipython",
    "version": 3
   },
   "file_extension": ".py",
   "mimetype": "text/x-python",
   "name": "python",
   "nbconvert_exporter": "python",
   "pygments_lexer": "ipython3",
   "version": "3.12.4"
  }
 },
 "nbformat": 4,
 "nbformat_minor": 5
}
