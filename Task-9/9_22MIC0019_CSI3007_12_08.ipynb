{
  "cells": [
    {
      "cell_type": "code",
      "execution_count": null,
      "id": "efc1e7b1-e9db-472f-9e8c-09e9c6f4dc61",
      "metadata": {
        "id": "efc1e7b1-e9db-472f-9e8c-09e9c6f4dc61"
      },
      "outputs": [],
      "source": [
        "class Employee:\n",
        "    no_of_employees = 0\n",
        "    raise_amount = 1.04\n",
        "\n",
        "    def __init__(self, first, last, pay):\n",
        "        self.first = first\n",
        "        self.last = last\n",
        "        self.pay = pay\n",
        "        Employee.no_of_employees += 1 #Updating the class vairable to keep track of no. of instances created, since the init function is executed during each instance declaration\n",
        "\n",
        "    def apply_raise(self):\n",
        "        self.pay = int(self.pay * int(Employee.raise_amount))"
      ]
    },
    {
      "cell_type": "code",
      "execution_count": null,
      "id": "93a207ce-f50c-4128-88a8-fadf02d2dca5",
      "metadata": {
        "id": "93a207ce-f50c-4128-88a8-fadf02d2dca5",
        "outputId": "b337d00a-2cd9-468d-92fe-09525be81884"
      },
      "outputs": [
        {
          "name": "stdout",
          "output_type": "stream",
          "text": [
            "{'__module__': '__main__', 'no_of_employees': 0, 'raise_amount': 1.04, '__init__': <function Employee.__init__ at 0x0000023D22DF9620>, 'apply_raise': <function Employee.apply_raise at 0x0000023D22DF9C60>, '__dict__': <attribute '__dict__' of 'Employee' objects>, '__weakref__': <attribute '__weakref__' of 'Employee' objects>, '__doc__': None}\n"
          ]
        }
      ],
      "source": [
        "print(Employee.__dict__)"
      ]
    },
    {
      "cell_type": "code",
      "execution_count": null,
      "id": "d36129ef-6eef-4581-b58e-dcfd902f72c0",
      "metadata": {
        "id": "d36129ef-6eef-4581-b58e-dcfd902f72c0",
        "outputId": "dc4fa32b-f6a0-4235-9a99-69ef6c956afa"
      },
      "outputs": [
        {
          "name": "stdout",
          "output_type": "stream",
          "text": [
            "Employee.raise_amount:  1.04\n",
            "e1.raise_amount:  1.04\n",
            "e1.pay:  7000000\n",
            "e1.pay after raise:  7000000\n"
          ]
        }
      ],
      "source": [
        "print(\"Employee.raise_amount: \" , Employee.raise_amount)\n",
        "e1 = Employee(\"Donald \", \"Trump\", \"7000000\")\n",
        "print(\"e1.raise_amount: \", e1.raise_amount)\n",
        "print(\"e1.pay: \", e1.pay)\n",
        "e1.apply_raise()\n",
        "print(\"e1.pay after raise: \", e1.pay)"
      ]
    },
    {
      "cell_type": "code",
      "execution_count": null,
      "id": "0cbe170d-d95e-4e7a-97f6-cc0b1636d3b0",
      "metadata": {
        "id": "0cbe170d-d95e-4e7a-97f6-cc0b1636d3b0",
        "outputId": "5343582d-a42e-4abf-e3f8-86bf60debbe9"
      },
      "outputs": [
        {
          "name": "stdout",
          "output_type": "stream",
          "text": [
            "1\n"
          ]
        }
      ],
      "source": [
        "print(e1.no_of_employees)"
      ]
    },
    {
      "cell_type": "code",
      "execution_count": null,
      "id": "a3e78eca-bf21-4616-a4b4-4d71e3d50b65",
      "metadata": {
        "id": "a3e78eca-bf21-4616-a4b4-4d71e3d50b65",
        "outputId": "1665d898-9648-4d31-c989-ce1fe6c4bfe4"
      },
      "outputs": [
        {
          "name": "stdout",
          "output_type": "stream",
          "text": [
            "{'first': 'Donald ', 'last': 'Trump', 'pay': 7000000}\n"
          ]
        }
      ],
      "source": [
        "print(e1.__dict__)"
      ]
    },
    {
      "cell_type": "code",
      "execution_count": null,
      "id": "63c8845f-55ed-4aff-9f91-c0190a531ef7",
      "metadata": {
        "id": "63c8845f-55ed-4aff-9f91-c0190a531ef7",
        "outputId": "494ccb09-02d2-462f-f0a3-f701d7210603"
      },
      "outputs": [
        {
          "name": "stdout",
          "output_type": "stream",
          "text": [
            "Employee.raise_amount:  1.04\n",
            "e1.raise_amount:  2.05\n",
            "e1.pay:  7000000\n",
            "e1.pay after change in raise:  7000000\n"
          ]
        }
      ],
      "source": [
        "e1.raise_amount = 2.05\n",
        "print(\"Employee.raise_amount: \" , Employee.raise_amount)\n",
        "print(\"e1.raise_amount: \", e1.raise_amount)\n",
        "\n",
        "print(\"e1.pay: \", e1.pay)\n",
        "e1.apply_raise()\n",
        "print(\"e1.pay after change in raise: \", e1.pay)"
      ]
    },
    {
      "cell_type": "code",
      "execution_count": null,
      "id": "1267f8dc-1e96-4f20-8e88-1cb5af65d7dd",
      "metadata": {
        "id": "1267f8dc-1e96-4f20-8e88-1cb5af65d7dd",
        "outputId": "126d7818-6b67-4e83-9aad-d65e7f484030"
      },
      "outputs": [
        {
          "name": "stdout",
          "output_type": "stream",
          "text": [
            "{'first': 'Donald ', 'last': 'Trump', 'pay': 7000000, 'raise_amount': 2.05}\n"
          ]
        }
      ],
      "source": [
        "print(e1.__dict__)"
      ]
    },
    {
      "cell_type": "code",
      "execution_count": null,
      "id": "c4f55eee-9fbe-43e5-872a-dabcdcafd518",
      "metadata": {
        "id": "c4f55eee-9fbe-43e5-872a-dabcdcafd518",
        "outputId": "84e31106-83cb-4b4d-ceac-17d0b764c284"
      },
      "outputs": [
        {
          "name": "stdout",
          "output_type": "stream",
          "text": [
            "7000000\n",
            "7000000\n",
            "e1.raise_amount:  2.05\n"
          ]
        }
      ],
      "source": [
        "print(e1.pay)\n",
        "e1.apply_raise()\n",
        "print(e1.pay)\n",
        "print(\"e1.raise_amount: \", e1.raise_amount)"
      ]
    },
    {
      "cell_type": "code",
      "execution_count": null,
      "id": "87ed80c7-bd2b-4b4c-99b1-dbf15a88f4c1",
      "metadata": {
        "id": "87ed80c7-bd2b-4b4c-99b1-dbf15a88f4c1",
        "outputId": "ee64a9a0-4699-4443-edb2-7fe4a73fd4f0"
      },
      "outputs": [
        {
          "name": "stdout",
          "output_type": "stream",
          "text": [
            "e2.raise_amount:  1.04\n"
          ]
        }
      ],
      "source": [
        "e2 = Employee(\"Rufina \", \"Joachim\", \"7000000\")\n",
        "print(\"e2.raise_amount: \", e2.raise_amount) #Class variables are getting initialized for each instance definition"
      ]
    },
    {
      "cell_type": "code",
      "execution_count": null,
      "id": "0d713f07-31a3-4ddc-aa50-c260281fe872",
      "metadata": {
        "id": "0d713f07-31a3-4ddc-aa50-c260281fe872",
        "outputId": "e9e44992-a34d-4df0-f4a6-1c03992beff0"
      },
      "outputs": [
        {
          "name": "stdout",
          "output_type": "stream",
          "text": [
            "5\n"
          ]
        }
      ],
      "source": [
        "print(e2.no_of_employees)"
      ]
    },
    {
      "cell_type": "code",
      "execution_count": null,
      "id": "a43a083b-5a90-4936-ab25-b6e0bd23eb7a",
      "metadata": {
        "id": "a43a083b-5a90-4936-ab25-b6e0bd23eb7a",
        "outputId": "e72ae931-e4d5-4207-beef-87eb9d7ecd98"
      },
      "outputs": [
        {
          "name": "stdout",
          "output_type": "stream",
          "text": [
            "{'first': 'Rufina ', 'last': 'Joachim', 'pay': '7000000'}\n"
          ]
        }
      ],
      "source": [
        "print(e2.__dict__)"
      ]
    },
    {
      "cell_type": "code",
      "execution_count": null,
      "id": "3983f8a3-ff2e-49e6-a224-d27a5a3d640d",
      "metadata": {
        "id": "3983f8a3-ff2e-49e6-a224-d27a5a3d640d",
        "outputId": "1736a4b9-1050-46ec-9509-d928bdfa3080"
      },
      "outputs": [
        {
          "name": "stdout",
          "output_type": "stream",
          "text": [
            "Hello from Parent\n"
          ]
        }
      ],
      "source": [
        "#Inheritance\n",
        "\n",
        "class Parent:\n",
        "    def greet(self):\n",
        "        print(\"Hello from Parent\")\n",
        "\n",
        "class Child(Parent):\n",
        "    pass\n",
        "\n",
        "obj = Child()\n",
        "obj.greet()"
      ]
    },
    {
      "cell_type": "code",
      "execution_count": null,
      "id": "96b4bae4-2056-4d9d-b33d-55eb58bf6621",
      "metadata": {
        "id": "96b4bae4-2056-4d9d-b33d-55eb58bf6621",
        "outputId": "3b66be59-98b7-4785-a3fd-774c06bcbf09"
      },
      "outputs": [
        {
          "name": "stdout",
          "output_type": "stream",
          "text": [
            "{'first': 'Alice ', 'last': 'Kingsley', 'pay': '9000000'}\n"
          ]
        }
      ],
      "source": [
        "class Emp1(Employee):\n",
        "    pass\n",
        "\n",
        "emp1_1 = Emp1(\"Alice \", \"Kingsley\", \"9000000\")\n",
        "print(emp1_1.__dict__)"
      ]
    },
    {
      "cell_type": "code",
      "execution_count": null,
      "id": "24aa15e8-5059-4a74-9b6e-5e7b8a1609bf",
      "metadata": {
        "id": "24aa15e8-5059-4a74-9b6e-5e7b8a1609bf",
        "outputId": "fa1c2655-e0bb-4637-f063-c6c43ed958e5"
      },
      "outputs": [
        {
          "name": "stdout",
          "output_type": "stream",
          "text": [
            "Hello from Parent\n",
            "Hello from Child\n"
          ]
        }
      ],
      "source": [
        "#Inheritance\n",
        "\n",
        "class Parent:\n",
        "    def greet(self):\n",
        "        print(\"Hello from Parent\")\n",
        "\n",
        "class Child(Parent):\n",
        "    def greet(self):\n",
        "        super().greet()\n",
        "        print(\"Hello from Child\")\n",
        "\n",
        "obj = Child()\n",
        "obj.greet()"
      ]
    },
    {
      "cell_type": "code",
      "execution_count": null,
      "id": "9a40c408-920b-4051-aa2f-d3210a5e333f",
      "metadata": {
        "id": "9a40c408-920b-4051-aa2f-d3210a5e333f",
        "outputId": "e6e7b4d7-49ab-416d-f79b-8bfa95c68a2d"
      },
      "outputs": [
        {
          "name": "stdout",
          "output_type": "stream",
          "text": [
            "{'first': 'Alice ', 'last': 'Kingsley', 'pay': '9000000'}\n",
            "46800000\n"
          ]
        }
      ],
      "source": [
        "class Emp1(Employee):\n",
        "    def apply_raise(self):\n",
        "        super().apply_raise()\n",
        "        self.pay = int(self.pay * Employee.raise_amount * 5)\n",
        "\n",
        "emp1_1 = Emp1(\"Alice \", \"Kingsley\", \"9000000\")\n",
        "print(emp1_1.__dict__)\n",
        "emp1_1.apply_raise()\n",
        "print(emp1_1.pay)"
      ]
    },
    {
      "cell_type": "code",
      "execution_count": null,
      "id": "d0aa3d9f-4e30-43be-9ea0-7f42d0070d85",
      "metadata": {
        "id": "d0aa3d9f-4e30-43be-9ea0-7f42d0070d85",
        "outputId": "daa013a2-a513-48aa-bfb6-cffdd556c3a0"
      },
      "outputs": [
        {
          "name": "stdout",
          "output_type": "stream",
          "text": [
            "9360000\n"
          ]
        }
      ],
      "source": [
        "print(int(46800000 / 5))"
      ]
    },
    {
      "cell_type": "code",
      "execution_count": null,
      "id": "df6cc696-ecec-4ed5-96b8-83ec4b0c1ec3",
      "metadata": {
        "id": "df6cc696-ecec-4ed5-96b8-83ec4b0c1ec3",
        "outputId": "e7bab03b-0b81-4d98-d8bf-47c6bb01585a"
      },
      "outputs": [
        {
          "name": "stdout",
          "output_type": "stream",
          "text": [
            "9000000\n"
          ]
        }
      ],
      "source": [
        "print(int(9360000 / 1.04))"
      ]
    },
    {
      "cell_type": "code",
      "execution_count": null,
      "id": "451b16db-4aa9-48e5-b604-c747a786be44",
      "metadata": {
        "id": "451b16db-4aa9-48e5-b604-c747a786be44",
        "outputId": "221fd29c-8937-4602-9109-28a90b87aea8"
      },
      "outputs": [
        {
          "name": "stdout",
          "output_type": "stream",
          "text": [
            "Method A\n",
            "Method B\n"
          ]
        }
      ],
      "source": [
        "class A:\n",
        "    def method_a(self):\n",
        "        print(\"Method A\")\n",
        "\n",
        "class B:\n",
        "     def method_b(self):\n",
        "        print(\"Method B\")\n",
        "\n",
        "class C(A, B):\n",
        "    pass\n",
        "\n",
        "obj = C()\n",
        "obj.method_a()\n",
        "obj.method_b()"
      ]
    },
    {
      "cell_type": "code",
      "execution_count": null,
      "id": "42d408c1-2843-41db-b1f4-de84edfd5c0e",
      "metadata": {
        "id": "42d408c1-2843-41db-b1f4-de84edfd5c0e",
        "outputId": "8f374a35-a28f-4694-d301-c67583ba25bc"
      },
      "outputs": [
        {
          "name": "stdout",
          "output_type": "stream",
          "text": [
            "Method A\n",
            "Method B\n"
          ]
        }
      ],
      "source": [
        "class A:\n",
        "    def method_a(self):\n",
        "        print(\"Method A\")\n",
        "\n",
        "class B(A):\n",
        "     def method_b(self):\n",
        "        print(\"Method B\")\n",
        "\n",
        "class C(B):\n",
        "    pass\n",
        "\n",
        "obj = C()\n",
        "obj.method_a()\n",
        "obj.method_b()"
      ]
    },
    {
      "cell_type": "code",
      "execution_count": null,
      "id": "a6213caf-4b30-438e-b8fb-6cecfc1fb302",
      "metadata": {
        "id": "a6213caf-4b30-438e-b8fb-6cecfc1fb302"
      },
      "outputs": [],
      "source": [
        "#Hierarchical and Hybrid Inheritance"
      ]
    },
    {
      "cell_type": "code",
      "execution_count": null,
      "id": "837e8b2e-37c3-487c-80b8-4af791719fcd",
      "metadata": {
        "id": "837e8b2e-37c3-487c-80b8-4af791719fcd"
      },
      "outputs": [],
      "source": [
        "class Contact:\n",
        "    all_contacts = []\n",
        "\n",
        "    def __init__(self, name, email):\n",
        "        self.name = name\n",
        "        self.email = email\n",
        "        Contact.all_contacts.append(self)\n"
      ]
    },
    {
      "cell_type": "code",
      "execution_count": null,
      "id": "ad2d4e36-0d47-4942-8a3c-2239b7e513e7",
      "metadata": {
        "id": "ad2d4e36-0d47-4942-8a3c-2239b7e513e7"
      },
      "outputs": [],
      "source": [
        "class Supplier(Contact):\n",
        "    def order(self, order):\n",
        "        print(\"send \" \"{} order to {}\".format(order, self))"
      ]
    },
    {
      "cell_type": "code",
      "execution_count": null,
      "id": "105ad1c9-8357-49fe-814c-3b11d54affb5",
      "metadata": {
        "id": "105ad1c9-8357-49fe-814c-3b11d54affb5"
      },
      "outputs": [],
      "source": [
        "c = Contact(\"Some Body \", \"somebody@example.net\")\n",
        "s = Supplier(\"Some Supplier \", \"supplier1@example.net\")"
      ]
    },
    {
      "cell_type": "code",
      "execution_count": null,
      "id": "0402be8a-9a63-493d-bee5-697b069009ac",
      "metadata": {
        "id": "0402be8a-9a63-493d-bee5-697b069009ac",
        "outputId": "450f4f7a-2d1f-4f56-a947-368dedebaeb1"
      },
      "outputs": [
        {
          "name": "stdout",
          "output_type": "stream",
          "text": [
            "[<__main__.Contact object at 0x0000023D22770A40>, <__main__.Contact object at 0x0000023D22953AA0>, <__main__.Supplier object at 0x0000023D229539E0>]\n"
          ]
        }
      ],
      "source": [
        "print(Contact.all_contacts)"
      ]
    },
    {
      "cell_type": "code",
      "execution_count": null,
      "id": "e92a220f-e0d0-45da-979d-eb6f7a26b625",
      "metadata": {
        "id": "e92a220f-e0d0-45da-979d-eb6f7a26b625",
        "outputId": "79268fa0-3a8b-46bc-c8ac-b4c8e59685bf"
      },
      "outputs": [
        {
          "name": "stdout",
          "output_type": "stream",
          "text": [
            "[<__main__.Contact object at 0x0000023D22770A40>, <__main__.Contact object at 0x0000023D22953AA0>, <__main__.Supplier object at 0x0000023D229539E0>]\n"
          ]
        }
      ],
      "source": [
        "print(c.all_contacts)"
      ]
    },
    {
      "cell_type": "code",
      "execution_count": null,
      "id": "9dab0f25-f74f-4bc4-966a-c76dd27bfe06",
      "metadata": {
        "id": "9dab0f25-f74f-4bc4-966a-c76dd27bfe06",
        "outputId": "47f09617-7981-4f1a-a7e1-2e75b32ffd8d"
      },
      "outputs": [
        {
          "name": "stdout",
          "output_type": "stream",
          "text": [
            "[<__main__.Contact object at 0x0000023D22770A40>, <__main__.Contact object at 0x0000023D22953AA0>, <__main__.Supplier object at 0x0000023D229539E0>]\n"
          ]
        }
      ],
      "source": [
        "print(s.all_contacts)"
      ]
    },
    {
      "cell_type": "code",
      "execution_count": null,
      "id": "23acf601-e6f9-41c2-a0f9-15334d449ba7",
      "metadata": {
        "id": "23acf601-e6f9-41c2-a0f9-15334d449ba7",
        "outputId": "27acc960-7aba-4bdc-e8c1-52116cd0196d"
      },
      "outputs": [
        {
          "ename": "AttributeError",
          "evalue": "'Contact' object has no attribute 'order'",
          "output_type": "error",
          "traceback": [
            "\u001b[31m---------------------------------------------------------------------------\u001b[39m",
            "\u001b[31mAttributeError\u001b[39m                            Traceback (most recent call last)",
            "\u001b[36mCell\u001b[39m\u001b[36m \u001b[39m\u001b[32mIn[124]\u001b[39m\u001b[32m, line 1\u001b[39m\n\u001b[32m----> \u001b[39m\u001b[32m1\u001b[39m \u001b[38;5;28mprint\u001b[39m(\u001b[43mc\u001b[49m\u001b[43m.\u001b[49m\u001b[43morder\u001b[49m)\n",
            "\u001b[31mAttributeError\u001b[39m: 'Contact' object has no attribute 'order'"
          ]
        }
      ],
      "source": [
        "print(c.order) #Error since inheritance is unidirectional"
      ]
    },
    {
      "cell_type": "code",
      "execution_count": null,
      "id": "677fa368-4a23-4815-8227-b42c1f1db7fc",
      "metadata": {
        "id": "677fa368-4a23-4815-8227-b42c1f1db7fc",
        "outputId": "849845d6-9c5e-4e04-f2fb-49f7fe823765"
      },
      "outputs": [
        {
          "name": "stdout",
          "output_type": "stream",
          "text": [
            "<bound method Supplier.order of <__main__.Supplier object at 0x0000023D229539E0>>\n"
          ]
        }
      ],
      "source": [
        "print(s.order)"
      ]
    },
    {
      "cell_type": "code",
      "execution_count": null,
      "id": "b4379fa7-28a0-47d6-9c37-299913e315c6",
      "metadata": {
        "id": "b4379fa7-28a0-47d6-9c37-299913e315c6",
        "outputId": "67135139-5a8e-4836-c5ab-1809a30bd3d6"
      },
      "outputs": [
        {
          "name": "stdout",
          "output_type": "stream",
          "text": [
            "send I need 500 boxes order to <__main__.Supplier object at 0x0000023D229539E0>\n"
          ]
        }
      ],
      "source": [
        "s.order(\"I need 500 boxes\")"
      ]
    },
    {
      "cell_type": "code",
      "execution_count": null,
      "id": "c72297a3-1bf5-4962-8f97-57d276e64bba",
      "metadata": {
        "id": "c72297a3-1bf5-4962-8f97-57d276e64bba",
        "outputId": "67b0594a-f078-4f1b-cebb-2b7ef6edada4"
      },
      "outputs": [
        {
          "name": "stdout",
          "output_type": "stream",
          "text": [
            "send I need 500 boxes order to <__main__.Supplier object at 0x0000023D229539E0>\n",
            "None\n"
          ]
        }
      ],
      "source": [
        "print(s.order(\"I need 500 boxes\"))"
      ]
    },
    {
      "cell_type": "code",
      "execution_count": null,
      "id": "32beeae7-dc5a-4a75-b4f2-ccde7fd2a251",
      "metadata": {
        "id": "32beeae7-dc5a-4a75-b4f2-ccde7fd2a251"
      },
      "outputs": [],
      "source": [
        "#Extending Built-in class\n",
        "class ContactList(list):\n",
        "    def search(self, name):\n",
        "        \"\"\"Return all contacts that contain the search value in their name.\"\"\"\n",
        "        matching_contacts = []\n",
        "        for contact in self:\n",
        "            if name in contact.name:\n",
        "                matching_contacts/append(contact)\n",
        "        return matching_contacts"
      ]
    },
    {
      "cell_type": "code",
      "execution_count": null,
      "id": "60d2aa79-1b2a-4e46-ac3f-bb544fe6ea09",
      "metadata": {
        "id": "60d2aa79-1b2a-4e46-ac3f-bb544fe6ea09"
      },
      "outputs": [],
      "source": [
        "c1 = Contact(\"John A\", \"john@example.net\")\n",
        "c2 = Contact(\"John B\", \"john@example.net\")\n",
        "c3 = Contact(\"John C\", \"john@example.net\")"
      ]
    },
    {
      "cell_type": "code",
      "execution_count": null,
      "id": "fe0c1b1f-ffcd-4f89-9cca-a16c493afa03",
      "metadata": {
        "id": "fe0c1b1f-ffcd-4f89-9cca-a16c493afa03"
      },
      "outputs": [],
      "source": [
        "#Friend class can access private and protected variables of the other class. Python does not explicitly support friend class but achieves the same."
      ]
    },
    {
      "cell_type": "code",
      "execution_count": null,
      "id": "c4a166ef-bc6a-4750-86de-b25e558eb25e",
      "metadata": {
        "id": "c4a166ef-bc6a-4750-86de-b25e558eb25e"
      },
      "outputs": [],
      "source": [
        "#Prompt: Create textfile of 5 records and convert into python objects\n",
        "\n",
        "'''\n",
        "1. Create a text file with 5 records.\n",
        "2. Read the file in Python.\n",
        "3. Convert each record into an object (using a Python class).\n",
        "\n",
        "Step 1: Create the text file**\n",
        "101,John,25,Engineer\n",
        "102,Sarah,28,Designer\n",
        "103,Alex,22,Developer\n",
        "104,Emma,30,Manager\n",
        "105,David,27,Analyst\n",
        "\n",
        "'''\n",
        "\n"
      ]
    },
    {
      "cell_type": "code",
      "source": [
        "# Define a class for the record\n",
        "class Person:\n",
        "    def __init__(self, emp_id, name, age, job):\n",
        "        self.emp_id = emp_id\n",
        "        self.name = name\n",
        "        self.age = int(age)\n",
        "        self.job = job\n",
        "\n",
        "    def __str__(self):\n",
        "        return f\"{self.emp_id} - {self.name}, {self.age} years old, {self.job}\""
      ],
      "metadata": {
        "id": "pfZ_4dheXrXI"
      },
      "id": "pfZ_4dheXrXI",
      "execution_count": 1,
      "outputs": []
    },
    {
      "cell_type": "code",
      "source": [
        "# Read the text file and convert each record into an object\n",
        "people = []\n",
        "with open(\"Profile_Data.txt\", \"r\") as file:\n",
        "    for line in file:\n",
        "        emp_id, name, age, job = line.strip().split(\",\")\n",
        "        person = Person(emp_id, name, age, job)\n",
        "        people.append(person)\n",
        "\n",
        "# Display the objects\n",
        "for p in people:\n",
        "    print(p)"
      ],
      "metadata": {
        "colab": {
          "base_uri": "https://localhost:8080/"
        },
        "id": "J-vA-oqLYFzB",
        "outputId": "0a935c89-c8cd-48b7-8861-24f1ad39ff95"
      },
      "id": "J-vA-oqLYFzB",
      "execution_count": 4,
      "outputs": [
        {
          "output_type": "stream",
          "name": "stdout",
          "text": [
            "101 - John, 25 years old, Engineer\n",
            "102 - Sarah, 28 years old, Designer\n",
            "103 - Alex, 22 years old, Developer\n",
            "104 - Emma, 30 years old, Manager\n",
            "105 - David, 27 years old, Analyst\n"
          ]
        }
      ]
    }
  ],
  "metadata": {
    "kernelspec": {
      "display_name": "Python 3 (ipykernel)",
      "language": "python",
      "name": "python3"
    },
    "language_info": {
      "codemirror_mode": {
        "name": "ipython",
        "version": 3
      },
      "file_extension": ".py",
      "mimetype": "text/x-python",
      "name": "python",
      "nbconvert_exporter": "python",
      "pygments_lexer": "ipython3",
      "version": "3.12.4"
    },
    "colab": {
      "provenance": []
    }
  },
  "nbformat": 4,
  "nbformat_minor": 5
}