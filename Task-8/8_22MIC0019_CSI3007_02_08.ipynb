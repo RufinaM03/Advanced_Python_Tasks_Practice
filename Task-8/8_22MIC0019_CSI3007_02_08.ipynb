{
  "cells": [
    {
      "cell_type": "code",
      "execution_count": null,
      "id": "811ea624-0412-4301-a416-2fcedacc9071",
      "metadata": {
        "id": "811ea624-0412-4301-a416-2fcedacc9071"
      },
      "outputs": [],
      "source": [
        "#Functions\n",
        "#1. Passing Arguments\n",
        "def describe_pet(pet_name, animal_type=\"dog\"):\n",
        "    print(f\"\\nI have a {animal_type}.\")\n",
        "    print(f\"My {animal_type}'s name is {pet_name.title()}.\")\n"
      ]
    },
    {
      "cell_type": "code",
      "execution_count": null,
      "id": "4521f482-477c-4a9c-8b54-9f024e428d21",
      "metadata": {
        "id": "4521f482-477c-4a9c-8b54-9f024e428d21",
        "outputId": "93ea9990-82e4-49ce-a1f7-2197b5ac0579"
      },
      "outputs": [
        {
          "name": "stdout",
          "output_type": "stream",
          "text": [
            "\n",
            "I have a dog.\n",
            "My dog's name is Bruno.\n",
            "\n",
            "I have a cat.\n",
            "My cat's name is Kitty.\n"
          ]
        }
      ],
      "source": [
        "#2. Multiple Function Calls\n",
        "describe_pet('bruno')\n",
        "describe_pet('kitty', 'cat')"
      ]
    },
    {
      "cell_type": "code",
      "execution_count": null,
      "id": "dd69cfc7-0f98-4ff8-b723-ae08969e7da3",
      "metadata": {
        "id": "dd69cfc7-0f98-4ff8-b723-ae08969e7da3",
        "outputId": "196282c8-f868-41ea-dc3e-7309b77664a3"
      },
      "outputs": [
        {
          "name": "stdout",
          "output_type": "stream",
          "text": [
            "\n",
            "I have a hamster.\n",
            "My hamster's name is Harry.\n"
          ]
        }
      ],
      "source": [
        "#3. Order Matters in Positional Arguments\n",
        "describe_pet('harry', 'hamster')\n",
        "# pet_name='harry', animal_type='hamster'"
      ]
    },
    {
      "cell_type": "code",
      "execution_count": null,
      "id": "466d3a2d-a221-434e-9614-6c194af1b14d",
      "metadata": {
        "id": "466d3a2d-a221-434e-9614-6c194af1b14d",
        "outputId": "48a08099-da37-4b44-d713-15d0faec3f36"
      },
      "outputs": [
        {
          "name": "stdout",
          "output_type": "stream",
          "text": [
            "\n",
            "I have a harry.\n",
            "My harry's name is Hamster.\n"
          ]
        }
      ],
      "source": [
        "describe_pet('hamster', 'harry')  # Wrong meaning"
      ]
    },
    {
      "cell_type": "code",
      "execution_count": null,
      "id": "1c4cafdc-dc8b-48f0-a7d3-3c25af2f4e17",
      "metadata": {
        "id": "1c4cafdc-dc8b-48f0-a7d3-3c25af2f4e17",
        "outputId": "8e860e48-d947-40b1-994a-bedc579a7bac"
      },
      "outputs": [
        {
          "name": "stdout",
          "output_type": "stream",
          "text": [
            "\n",
            "I have a hamster.\n",
            "My hamster's name is Harry.\n",
            "\n",
            "I have a hamster.\n",
            "My hamster's name is Harry.\n"
          ]
        }
      ],
      "source": [
        "#4. Keyword Arguments\n",
        "describe_pet(pet_name='harry', animal_type='hamster')\n",
        "describe_pet(animal_type='hamster', pet_name='harry')  # order doesn’t matter"
      ]
    },
    {
      "cell_type": "code",
      "execution_count": null,
      "id": "ba85110d-7ab4-4602-bf6f-c89e602c269a",
      "metadata": {
        "id": "ba85110d-7ab4-4602-bf6f-c89e602c269a"
      },
      "outputs": [],
      "source": [
        "#5. Default Values\n",
        "def describe_pet(pet_name, animal_type=\"dog\"):\n",
        "    print(f\"\\nI have a {animal_type}.\")\n",
        "    print(f\"My {animal_type}'s name is {pet_name.title()}.\")"
      ]
    },
    {
      "cell_type": "code",
      "execution_count": null,
      "id": "e381dda8-ebdb-4191-8fd5-1e86ca457d76",
      "metadata": {
        "id": "e381dda8-ebdb-4191-8fd5-1e86ca457d76",
        "outputId": "5fa95027-d42d-4b55-c636-44e386e94caa"
      },
      "outputs": [
        {
          "name": "stdout",
          "output_type": "stream",
          "text": [
            "\n",
            "I have a dog.\n",
            "My dog's name is Bruno.\n",
            "\n",
            "I have a dog.\n",
            "My dog's name is Bruno.\n",
            "\n",
            "I have a hamster.\n",
            "My hamster's name is Harry.\n",
            "\n",
            "I have a hamster.\n",
            "My hamster's name is Harry.\n",
            "\n",
            "I have a hamster.\n",
            "My hamster's name is Harry.\n"
          ]
        }
      ],
      "source": [
        "#6. Many Ways to Call a Function\n",
        "# 1. Only one positional argument → animal_type uses default (\"dog\")\n",
        "describe_pet('bruno')\n",
        "# OUTPUT: I have a dog. My dog's name is Bruno.\n",
        "\n",
        "# 2. Same, but using keyword → clearer than positional\n",
        "describe_pet(pet_name='bruno')\n",
        "# OUTPUT: I have a dog. My dog's name is Bruno.\n",
        "\n",
        "# 3. Two positional arguments → order matters\n",
        "describe_pet('harry', 'hamster')\n",
        "# OUTPUT: I have a hamster. My hamster's name is Harry.\n",
        "\n",
        "# 4. Two keyword arguments → order doesn’t matter\n",
        "describe_pet(pet_name='harry', animal_type='hamster')\n",
        "describe_pet(animal_type='hamster', pet_name='harry')\n",
        "# OUTPUT: I have a hamster. My hamster's name is Harry.\n"
      ]
    },
    {
      "cell_type": "code",
      "execution_count": null,
      "id": "fb859c3b-c52c-4bb7-be50-1275fd16e1b5",
      "metadata": {
        "id": "fb859c3b-c52c-4bb7-be50-1275fd16e1b5",
        "outputId": "97a3f47a-d65b-4e1d-a1b0-912bb1941715"
      },
      "outputs": [
        {
          "name": "stdout",
          "output_type": "stream",
          "text": [
            "Ada Lovelace\n"
          ]
        }
      ],
      "source": [
        "#7. Returning a Simple Value\n",
        "def get_full_name(first, last):\n",
        "    return f\"{first.title()} {last.title()}\"\n",
        "\n",
        "print(get_full_name(\"ada\", \"lovelace\"))\n"
      ]
    },
    {
      "cell_type": "code",
      "execution_count": null,
      "id": "94b3cf03-ad11-43ea-a087-02c2487d4ccc",
      "metadata": {
        "id": "94b3cf03-ad11-43ea-a087-02c2487d4ccc"
      },
      "outputs": [],
      "source": [
        "#8. Making an Argument Optional\n",
        "def get_full_name(first, last, middle=None):\n",
        "    if middle:\n",
        "        return f\"{first.title()} {middle.title()} {last.title()}\"\n",
        "    else:\n",
        "        return f\"{first.title()} {last.title()}\""
      ]
    },
    {
      "cell_type": "code",
      "execution_count": null,
      "id": "d253c3e3-3e85-4752-a093-9fcef8c9cbd7",
      "metadata": {
        "id": "d253c3e3-3e85-4752-a093-9fcef8c9cbd7",
        "outputId": "54888441-524b-4b61-b6e5-eb560047d3dd"
      },
      "outputs": [
        {
          "name": "stdout",
          "output_type": "stream",
          "text": [
            "{'first': 'marie', 'last': 'curie', 'age': 66}\n"
          ]
        }
      ],
      "source": [
        "#9. Returning a Dictionary\n",
        "def build_person(first, last, age=None):\n",
        "    person = {'first': first, 'last': last}\n",
        "    if age:\n",
        "        person['age'] = age\n",
        "    return person\n",
        "\n",
        "print(build_person('marie', 'curie', age=66))"
      ]
    },
    {
      "cell_type": "code",
      "execution_count": null,
      "id": "23934342-95b6-49ec-8833-3d6063f30f86",
      "metadata": {
        "id": "23934342-95b6-49ec-8833-3d6063f30f86",
        "outputId": "2cb14243-7377-42ca-c637-e2410ccdd383"
      },
      "outputs": [
        {
          "name": "stdout",
          "output_type": "stream",
          "text": [
            "Hello, Ada!\n",
            "Hello, Bob!\n",
            "Hello, Charlie!\n"
          ]
        }
      ],
      "source": [
        "#10. Passing a List\n",
        "def greet_users(names):\n",
        "    for name in names:\n",
        "        print(f\"Hello, {name.title()}!\")\n",
        "\n",
        "greet_users(['ada', 'bob', 'charlie'])"
      ]
    },
    {
      "cell_type": "code",
      "execution_count": null,
      "id": "58d3a8a4-dac0-4745-a0b4-73f99f2d39e7",
      "metadata": {
        "id": "58d3a8a4-dac0-4745-a0b4-73f99f2d39e7"
      },
      "outputs": [],
      "source": [
        "#11. Modifying a List inside the Function\n",
        "#Functions can directly update a list (mutable)."
      ]
    },
    {
      "cell_type": "code",
      "execution_count": null,
      "id": "5027a1fb-7ec1-4037-b2a1-02653421b584",
      "metadata": {
        "id": "5027a1fb-7ec1-4037-b2a1-02653421b584"
      },
      "outputs": [],
      "source": [
        "#12. Protecting a List from Updates\n",
        "#Pass a copy of the list using [:] if you don’t want changes reflected."
      ]
    },
    {
      "cell_type": "code",
      "execution_count": null,
      "id": "7e6681cf-b400-497c-afb8-37775a79d931",
      "metadata": {
        "id": "7e6681cf-b400-497c-afb8-37775a79d931",
        "outputId": "6e66f056-44ee-4215-b3ee-4da7c2f43f27"
      },
      "outputs": [
        {
          "name": "stdout",
          "output_type": "stream",
          "text": [
            "\n",
            "Making pizza with:\n",
            "- cheese\n",
            "- tomato\n",
            "- olives\n"
          ]
        }
      ],
      "source": [
        "#13. Passing an Arbitrary Number of Arguments\n",
        "def make_pizza(*toppings):\n",
        "    print(\"\\nMaking pizza with:\")\n",
        "    for topping in toppings:\n",
        "        print(f\"- {topping}\")\n",
        "\n",
        "make_pizza('cheese', 'tomato', 'olives')"
      ]
    },
    {
      "cell_type": "code",
      "execution_count": null,
      "id": "2108db5d-a747-4afd-a016-a0247d2a4782",
      "metadata": {
        "id": "2108db5d-a747-4afd-a016-a0247d2a4782",
        "outputId": "3b57961d-b0df-4ba6-d3a0-91273e89cd52"
      },
      "outputs": [
        {
          "name": "stdout",
          "output_type": "stream",
          "text": [
            "\n",
            "Making a 12-inch pizza with:\n",
            "- cheese\n",
            "- pepperoni\n"
          ]
        }
      ],
      "source": [
        "#14. Mixing Positional and Arbitrary Arguments\n",
        "def make_pizza(size, *toppings):\n",
        "    print(f\"\\nMaking a {size}-inch pizza with:\")\n",
        "    for topping in toppings:\n",
        "        print(f\"- {topping}\")\n",
        "\n",
        "make_pizza(12, 'cheese', 'pepperoni')"
      ]
    },
    {
      "cell_type": "code",
      "execution_count": null,
      "id": "c0844ada-c60c-408d-a35a-0ef36886ebb9",
      "metadata": {
        "id": "c0844ada-c60c-408d-a35a-0ef36886ebb9",
        "outputId": "0b3d5b84-869d-40dc-a047-09b20a7ab842"
      },
      "outputs": [
        {
          "name": "stdout",
          "output_type": "stream",
          "text": [
            "{'first': 'albert', 'last': 'einstein', 'location': 'princeton', 'field': 'physics'}\n"
          ]
        }
      ],
      "source": [
        "#15. Using Arbitrary Keyword Arguments\n",
        "def build_profile(first, last, **info):\n",
        "    profile = {'first': first, 'last': last}\n",
        "    profile.update(info)\n",
        "    return profile\n",
        "\n",
        "print(build_profile('albert', 'einstein', location='princeton', field='physics'))"
      ]
    }
  ],
  "metadata": {
    "kernelspec": {
      "display_name": "Python 3 (ipykernel)",
      "language": "python",
      "name": "python3"
    },
    "language_info": {
      "codemirror_mode": {
        "name": "ipython",
        "version": 3
      },
      "file_extension": ".py",
      "mimetype": "text/x-python",
      "name": "python",
      "nbconvert_exporter": "python",
      "pygments_lexer": "ipython3",
      "version": "3.12.4"
    },
    "colab": {
      "provenance": []
    }
  },
  "nbformat": 4,
  "nbformat_minor": 5
}