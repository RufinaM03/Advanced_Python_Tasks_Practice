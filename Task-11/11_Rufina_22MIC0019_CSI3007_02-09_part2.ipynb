{
 "cells": [
  {
   "cell_type": "code",
   "execution_count": 1,
   "id": "1dca8682-a0d5-4365-a4f9-c496bb7a9c4a",
   "metadata": {},
   "outputs": [
    {
     "name": "stdout",
     "output_type": "stream",
     "text": [
      "John\n",
      "Mark\n",
      "Elon\n",
      "Callahan\n",
      "34\n",
      "37\n",
      "25\n",
      "25\n"
     ]
    }
   ],
   "source": [
    "import threading\n",
    "import time\n",
    "import random\n",
    "\n",
    "def print_names():\n",
    "    for name in ('John', 'Mark', 'Elon', 'Callahan'):\n",
    "        print (name)\n",
    "        time.sleep(random.uniform ( 0.5, 1.5))\n",
    "\n",
    "def print_ages():\n",
    "    for _ in range(4):\n",
    "        print(random.randint(20,50))\n",
    "        time.sleep(random.uniform(0.5,1.5))\n",
    "\n",
    "\n",
    "print_names()\n",
    "print_ages()\n",
    "        "
   ]
  },
  {
   "cell_type": "code",
   "execution_count": 2,
   "id": "b8e3c655-0f96-4590-a5c2-5eee77b01c5a",
   "metadata": {},
   "outputs": [
    {
     "name": "stdout",
     "output_type": "stream",
     "text": [
      "John\n",
      "44\n",
      "Mark\n",
      "35\n",
      "41\n",
      "Elon\n",
      "Callahan\n",
      "46\n"
     ]
    }
   ],
   "source": [
    "import threading\n",
    "import time\n",
    "import random\n",
    "\n",
    "def print_names():\n",
    "    for name in ('John', 'Mark', 'Elon', 'Callahan'):\n",
    "        print (name)\n",
    "        time.sleep(random.uniform ( 0.5, 1.5))\n",
    "\n",
    "def print_ages():\n",
    "    for _ in range(4):\n",
    "        print(random.randint(20,50))\n",
    "        time.sleep(random.uniform(0.5,1.5))\n",
    "\n",
    "\n",
    "t1 = threading.Thread(target = print_names)\n",
    "t2 = threading.Thread(target = print_ages)\n",
    "\n",
    "# The above threads are not doing anything yet. To do that, use start()\n",
    "\n",
    "t1.start()\n",
    "t2.start()\n",
    "\n",
    "# t1.join()\n",
    "# t2.join()\n",
    "        "
   ]
  },
  {
   "cell_type": "code",
   "execution_count": 3,
   "id": "57106c89-ca80-41ac-8b99-2be8001cb987",
   "metadata": {},
   "outputs": [
    {
     "name": "stdout",
     "output_type": "stream",
     "text": [
      "John\n",
      "43\n",
      "Mark\n",
      "23\n",
      "Elon\n",
      "43\n",
      "Callahan\n",
      "29\n"
     ]
    }
   ],
   "source": [
    "import threading\n",
    "import time\n",
    "import random\n",
    "\n",
    "def print_names():\n",
    "    for name in ('John', 'Mark', 'Elon', 'Callahan'):\n",
    "        print (name)\n",
    "        time.sleep(random.uniform ( 0.5, 1.5))\n",
    "\n",
    "def print_ages():\n",
    "    for _ in range(4):\n",
    "        print(random.randint(20,50))\n",
    "        time.sleep(random.uniform(0.5,1.5))\n",
    "\n",
    "\n",
    "t1 = threading.Thread(target = print_names)\n",
    "t2 = threading.Thread(target = print_ages)\n",
    "\n",
    "# The above threads are not doing anything yet. To do that, use start()\n",
    "\n",
    "t1.start()\n",
    "t2.start()\n",
    "\n",
    "t1.join()\n",
    "t2.join()\n",
    "        "
   ]
  },
  {
   "cell_type": "code",
   "execution_count": 4,
   "id": "77da0874-15bd-4243-b11e-6471333c7f73",
   "metadata": {},
   "outputs": [],
   "source": [
    "#The execution moves between the threads when one is sleeping to the other"
   ]
  },
  {
   "cell_type": "code",
   "execution_count": 5,
   "id": "e00c4fa4-765d-41e3-b254-905cfe0391e8",
   "metadata": {},
   "outputs": [
    {
     "name": "stdout",
     "output_type": "stream",
     "text": [
      "Downloading https://www.gutenberg.org/ebooks/8627/8627-readme.txt to Downloads/8627-readme.txt\n"
     ]
    },
    {
     "name": "stderr",
     "output_type": "stream",
     "text": [
      "Exception in thread Thread-7 (download_file):\n",
      "Traceback (most recent call last):\n",
      "  File \"C:\\Users\\rufin\\AppData\\Local\\Programs\\Python\\Python312\\Lib\\threading.py\", line 1073, in _bootstrap_inner\n",
      "    self.run()\n",
      "  File \"C:\\Users\\rufin\\AppData\\Local\\Programs\\Python\\Python312\\Lib\\site-packages\\ipykernel\\ipkernel.py\", line 766, in run_closure\n",
      "    _threading_Thread_run(self)\n",
      "  File \"C:\\Users\\rufin\\AppData\\Local\\Programs\\Python\\Python312\\Lib\\threading.py\", line 1010, in run\n",
      "    self._target(*self._args, **self._kwargs)\n",
      "  File \"C:\\Users\\rufin\\AppData\\Local\\Temp\\ipykernel_14040\\1567714193.py\", line 8, in download_file\n",
      "  File \"C:\\Users\\rufin\\AppData\\Local\\Programs\\Python\\Python312\\Lib\\pathlib.py\", line 1036, in write_bytes\n",
      "    with self.open(mode='wb') as f:\n",
      "         ^^^^^^^^^^^^^^^^^^^^\n",
      "  File \"C:\\Users\\rufin\\AppData\\Local\\Programs\\Python\\Python312\\Lib\\pathlib.py\", line 1013, in open\n",
      "    return io.open(self, mode, buffering, encoding, errors, newline)\n",
      "           ^^^^^^^^^^^^^^^^^^^^^^^^^^^^^^^^^^^^^^^^^^^^^^^^^^^^^^^^^\n",
      "FileNotFoundError: [Errno 2] No such file or directory: 'Downloads\\\\8627-readme.txt'\n"
     ]
    },
    {
     "data": {
      "text/plain": [
       "[None]"
      ]
     },
     "execution_count": 5,
     "metadata": {},
     "output_type": "execute_result"
    }
   ],
   "source": [
    "import threading\n",
    "import requests\n",
    "from pathlib import Path\n",
    "\n",
    "def download_file(url, filename):\n",
    "    print(f'Downloading {url} to {filename}')\n",
    "    response = requests.get(url)\n",
    "    Path(filename).write_bytes(response.content)\n",
    "    print(f'Finished Downloading {filename}')\n",
    "\n",
    "base_url = \"https://www.gutenberg.org/ebooks/8627\"\n",
    "urls = [\n",
    "    f'{base_url}/8627-readme.txt',\n",
    "    #f'{base_url}/new_file.txt',\n",
    "]\n",
    "\n",
    "threads = []\n",
    "for url in urls:\n",
    "    filename = \"Downloads/\" + url.split(\"/\")[-1]\n",
    "    t = threading.Thread(target = download_file, args =(url,filename))\n",
    "    t.start()\n",
    "    threads.append(t)\n",
    "\n",
    "[t.join() for t in threads]\n",
    "\n",
    "       \n",
    "\n",
    "       \n",
    "    "
   ]
  },
  {
   "cell_type": "code",
   "execution_count": null,
   "id": "b8390d28-7bd8-4607-9778-d5340d8ab10b",
   "metadata": {},
   "outputs": [],
   "source": []
  }
 ],
 "metadata": {
  "kernelspec": {
   "display_name": "Python 3 (ipykernel)",
   "language": "python",
   "name": "python3"
  },
  "language_info": {
   "codemirror_mode": {
    "name": "ipython",
    "version": 3
   },
   "file_extension": ".py",
   "mimetype": "text/x-python",
   "name": "python",
   "nbconvert_exporter": "python",
   "pygments_lexer": "ipython3",
   "version": "3.12.4"
  }
 },
 "nbformat": 4,
 "nbformat_minor": 5
}
