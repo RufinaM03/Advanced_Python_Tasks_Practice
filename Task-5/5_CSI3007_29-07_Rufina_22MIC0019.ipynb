{
 "cells": [
  {
   "cell_type": "code",
   "execution_count": 1,
   "id": "d292706a-c6eb-4c12-b9ba-75ee05d6aad0",
   "metadata": {},
   "outputs": [
    {
     "name": "stdout",
     "output_type": "stream",
     "text": [
      "a: []\n",
      "b: []\n",
      "c: [1, 2, 3]\n",
      "d: [1, 2, 3]\n",
      "e: [0, 1, 2, 3, 4]\n",
      "f: ['h', 'e', 'l', 'l', 'o']\n",
      "g: [0, 1, 4, 9, 16]\n",
      "h: [[1, 2], [3, 4]]\n"
     ]
    }
   ],
   "source": [
    "#Different ways of initializing a list\n",
    "\n",
    "# Empty lists\n",
    "a = []\n",
    "b = list()\n",
    "\n",
    "# With elements\n",
    "c = [1, 2, 3]\n",
    "d = list([1, 2, 3])\n",
    "\n",
    "# From another iterable\n",
    "e = list(range(5))            # [0, 1, 2, 3, 4]\n",
    "f = list(\"hello\")              # ['h', 'e', 'l', 'l', 'o']\n",
    "g = [x**2 for x in range(5)]   # [0, 1, 4, 9, 16] (list comprehension)\n",
    "\n",
    "# Nested list\n",
    "h = [[1, 2], [3, 4]]\n",
    "\n",
    "# Printing each list\n",
    "print(\"a:\", a)\n",
    "print(\"b:\", b)\n",
    "print(\"c:\", c)\n",
    "print(\"d:\", d)\n",
    "print(\"e:\", e)\n",
    "print(\"f:\", f)\n",
    "print(\"g:\", g)\n",
    "print(\"h:\", h)"
   ]
  },
  {
   "cell_type": "code",
   "execution_count": 5,
   "id": "1bd46308-aa92-420a-87f8-9a5c074c2be0",
   "metadata": {},
   "outputs": [
    {
     "data": {
      "text/plain": [
       "' Findings from bellow codes:\\n\\nDeep copy (independent) :\\n    `list1.copy()`, `list(list1)`, `list1[:]`, `copy.deepcopy(list1)`\\n    Changes are not reflected.\\n\\nShallow copy (reference) \\n     `list2 = list1`  \\n     Changes are refected.\\n     Reason: Both lists point to same memory\\n'"
      ]
     },
     "execution_count": 5,
     "metadata": {},
     "output_type": "execute_result"
    }
   ],
   "source": [
    "''' Findings from bellow codes:\n",
    "\n",
    "Deep copy (independent) :\n",
    "    `list1.copy()`, `list(list1)`, `list1[:]`, `copy.deepcopy(list1)`\n",
    "    Changes in the first list are not reflected in the new ones.\n",
    "    \n",
    "Shallow copy (reference) \n",
    "     `list2 = list1`  \n",
    "     Changes in the first list are reflected in the new ones.\n",
    "     Reason: Both lists point to same memory\n",
    "'''"
   ]
  },
  {
   "cell_type": "code",
   "execution_count": 20,
   "id": "68795d27-b429-4444-9f64-dd258507dbd0",
   "metadata": {},
   "outputs": [
    {
     "name": "stdout",
     "output_type": "stream",
     "text": [
      "2\n",
      "[2, 3]\n",
      "[2, 3, 4, 5]\n"
     ]
    }
   ],
   "source": [
    "# 1. Slicing\n",
    "l = [0, 1, 2, 3, 4, 5]\n",
    "m1 = l[2:4]\n",
    "m2 = l[2:]\n",
    "print(l[2])\n",
    "print(m1)\n",
    "print(m2)"
   ]
  },
  {
   "cell_type": "code",
   "execution_count": 32,
   "id": "8fd33e89-2c61-4d49-8c57-6649a5ec2421",
   "metadata": {},
   "outputs": [
    {
     "name": "stdout",
     "output_type": "stream",
     "text": [
      "2599578975360 2599578898496 2599578975360 [0, 1, 2, 3, 4, 5] [0, 1, 2, 3, 4, 5]\n",
      "[0, 1, 2, 3, 4, 5, 4] [0, 1, 2, 3, 4, 5, 4]\n"
     ]
    }
   ],
   "source": [
    "# 2. Shallow Copy and Slicing\n",
    "\n",
    "l1 = [0, 1, 2, 3, 4, 5]\n",
    "l3 = l1[:]  # Slicing\n",
    "l2 = l1        # Shallow copy (reference copy)\n",
    "print(id(l1), id(l3), id(l2), l1, l2)\n",
    "\n",
    "l1.append(4)\n",
    "print(l1, l2)"
   ]
  },
  {
   "cell_type": "code",
   "execution_count": 33,
   "id": "fc1aff06-35f8-46f0-9c79-e41839578d48",
   "metadata": {},
   "outputs": [
    {
     "name": "stdout",
     "output_type": "stream",
     "text": [
      "1\n",
      "2\n",
      "3\n"
     ]
    }
   ],
   "source": [
    "# 3. Looping through the slice\n",
    "m = [0, 1, 2, 3]\n",
    "for i in m[1:]:\n",
    "    print(i)"
   ]
  },
  {
   "cell_type": "code",
   "execution_count": 19,
   "id": "66de2ebe-e2eb-4183-8b81-f71f0d81edc8",
   "metadata": {},
   "outputs": [
    {
     "name": "stdout",
     "output_type": "stream",
     "text": [
      "list1: [1, 2, 3]\n",
      "list2: [1, 2, 3]\n",
      "list1: [1, 2, 3, 4]\n",
      "list2: [1, 2, 3]\n"
     ]
    }
   ],
   "source": [
    "list1 = [1, 2, 3]\n",
    "\n",
    "# Methods for deep copy of simple lists\n",
    "list2 = list1.copy()\n",
    "# OR\n",
    "list2 = list(list1)\n",
    "# OR\n",
    "list2 = list1[:]  # slicing\n",
    "\n",
    "print(\"list1:\", list1)\n",
    "print(\"list2:\", list2)\n",
    "\n",
    "\n",
    "import copy\n",
    "list2 = copy.deepcopy(list1)  # works for nested lists too\n",
    "\n",
    "# Manipulating first list\n",
    "list1.append(4)\n",
    "\n",
    "print(\"list1:\", list1)  # [1, 2, 3, 4]\n",
    "print(\"list2:\", list2)  # [1, 2, 3]  (NOT reflected)\n"
   ]
  },
  {
   "cell_type": "code",
   "execution_count": 3,
   "id": "89e4bfee-5df6-4bb5-bd3f-e785537cd745",
   "metadata": {},
   "outputs": [
    {
     "name": "stdout",
     "output_type": "stream",
     "text": [
      "list1: [1, 2, 3, 4]\n",
      "list2: [1, 2, 3, 4]\n"
     ]
    }
   ],
   "source": [
    "list1 = [1, 2, 3]\n",
    "\n",
    "# Reference copy\n",
    "list2 = list1  # Both point to the same memory\n",
    "\n",
    "# Manipulating first list\n",
    "list1.append(4)\n",
    "\n",
    "print(\"list1:\", list1)  # [1, 2, 3, 4]\n",
    "print(\"list2:\", list2)  # [1, 2, 3, 4] (Reflected)\n"
   ]
  },
  {
   "cell_type": "code",
   "execution_count": null,
   "id": "a77e6285-656b-4459-b8d9-d94249d7c5f9",
   "metadata": {},
   "outputs": [],
   "source": [
    "#TUPLES"
   ]
  },
  {
   "cell_type": "code",
   "execution_count": 2,
   "id": "67f487f1-1706-4cb2-bb5e-75d6e5e382f2",
   "metadata": {},
   "outputs": [
    {
     "name": "stdout",
     "output_type": "stream",
     "text": [
      "(1, 2, 3) (4, 5, 6) (7,)\n"
     ]
    }
   ],
   "source": [
    "# 1. Creating Tuples\n",
    "t1 = (1, 2, 3)\n",
    "t2 = 4, 5, 6  # parentheses optional\n",
    "t3 = (7,)     # single-element tuple needs a comma\n",
    "print(t1, t2, t3)"
   ]
  },
  {
   "cell_type": "code",
   "execution_count": 3,
   "id": "368cd9bd-c229-40f8-99a0-e12ab560e2da",
   "metadata": {},
   "outputs": [
    {
     "name": "stdout",
     "output_type": "stream",
     "text": [
      "1\n",
      "3\n"
     ]
    }
   ],
   "source": [
    "# 2. Accessing Elements\n",
    "print(t1[0])   # first element\n",
    "print(t1[-1])  # last element"
   ]
  },
  {
   "cell_type": "code",
   "execution_count": 4,
   "id": "08ce47c9-2568-4d1c-84c6-10d90621f52c",
   "metadata": {},
   "outputs": [
    {
     "name": "stdout",
     "output_type": "stream",
     "text": [
      "(1, 2)\n",
      "(3, 2, 1)\n"
     ]
    }
   ],
   "source": [
    "# 3. Slicing\n",
    "print(t1[0:2])  # first two elements\n",
    "print(t1[::-1]) # reversed tuple"
   ]
  },
  {
   "cell_type": "code",
   "execution_count": 5,
   "id": "4b55c960-f94c-4bc6-bcd4-2c49600f505b",
   "metadata": {},
   "outputs": [
    {
     "name": "stdout",
     "output_type": "stream",
     "text": [
      "1 2 3\n"
     ]
    }
   ],
   "source": [
    "# 4. Tuple Unpacking\n",
    "a, b, c = t1\n",
    "print(a, b, c)"
   ]
  },
  {
   "cell_type": "code",
   "execution_count": 6,
   "id": "e3699079-6bbf-48e7-95ff-082dc67df65c",
   "metadata": {},
   "outputs": [
    {
     "name": "stdout",
     "output_type": "stream",
     "text": [
      "1 [2, 3, 4] 5\n"
     ]
    }
   ],
   "source": [
    "# Using * for extended unpacking\n",
    "t4 = (1, 2, 3, 4, 5)\n",
    "x, *mid, y = t4\n",
    "print(x, mid, y)"
   ]
  },
  {
   "cell_type": "code",
   "execution_count": 7,
   "id": "40ae5990-7a6c-41b7-881c-04e3da2764c2",
   "metadata": {},
   "outputs": [
    {
     "name": "stdout",
     "output_type": "stream",
     "text": [
      "3\n"
     ]
    }
   ],
   "source": [
    "# 5. Nesting Tuples\n",
    "nested = (1, (2, 3), (4, 5, 6))\n",
    "print(nested[1][1])  # access 3"
   ]
  },
  {
   "cell_type": "code",
   "execution_count": 8,
   "id": "15e546d5-ff37-456c-b344-20e1c2acd200",
   "metadata": {},
   "outputs": [
    {
     "name": "stdout",
     "output_type": "stream",
     "text": [
      "(1, 2, 3, 4, 5, 6)\n",
      "(1, 2, 3, 1, 2, 3)\n"
     ]
    }
   ],
   "source": [
    "# 6. Concatenation\n",
    "print(t1 + t2)\n",
    "\n",
    "# 7. Repetition\n",
    "print(t1 * 2)"
   ]
  },
  {
   "cell_type": "code",
   "execution_count": 9,
   "id": "f8e51dcd-c503-4126-bf51-3de2fb054647",
   "metadata": {},
   "outputs": [
    {
     "name": "stdout",
     "output_type": "stream",
     "text": [
      "True\n",
      "True\n"
     ]
    }
   ],
   "source": [
    "# 8. Membership Test\n",
    "print(2 in t1)\n",
    "print(10 not in t1)"
   ]
  },
  {
   "cell_type": "code",
   "execution_count": 10,
   "id": "b571d98f-11f4-40e0-8c66-add6d23438ed",
   "metadata": {},
   "outputs": [
    {
     "name": "stdout",
     "output_type": "stream",
     "text": [
      "3\n",
      "3\n"
     ]
    }
   ],
   "source": [
    "# 9. Count and Index Methods\n",
    "t5 = (1, 2, 2, 3, 2)\n",
    "print(t5.count(2))  # number of times 2 appears\n",
    "print(t5.index(3))  # first occurrence of 3"
   ]
  },
  {
   "cell_type": "code",
   "execution_count": 11,
   "id": "d61a6624-2395-4d48-ac1e-f6a45a4fe75b",
   "metadata": {},
   "outputs": [
    {
     "name": "stdout",
     "output_type": "stream",
     "text": [
      "(1, 2, 3)\n"
     ]
    }
   ],
   "source": [
    "# 10. Conversion\n",
    "lst = [1, 2, 3]\n",
    "tpl = tuple(lst)\n",
    "print(tpl)"
   ]
  },
  {
   "cell_type": "code",
   "execution_count": 12,
   "id": "51b34ac6-9c70-4400-9576-3a42f3edced0",
   "metadata": {},
   "outputs": [
    {
     "name": "stdout",
     "output_type": "stream",
     "text": [
      "1\n",
      "2\n",
      "3\n"
     ]
    }
   ],
   "source": [
    "# 11. Iteration\n",
    "for item in t1:\n",
    "    print(item)"
   ]
  },
  {
   "cell_type": "code",
   "execution_count": 13,
   "id": "637c433b-8d00-4c73-be13-2257d32fc491",
   "metadata": {},
   "outputs": [
    {
     "name": "stdout",
     "output_type": "stream",
     "text": [
      "0 1\n",
      "1 2\n",
      "2 3\n"
     ]
    }
   ],
   "source": [
    "# 12. Tuples in a Loop with enumerate()\n",
    "for idx, val in enumerate(t1):\n",
    "    print(idx, val)"
   ]
  },
  {
   "cell_type": "code",
   "execution_count": 14,
   "id": "cc31061a-26df-42bf-9c25-7fce339301d9",
   "metadata": {},
   "outputs": [],
   "source": [
    "# 13. Returning Multiple Values from a Function\n",
    "def min_max(values):\n",
    "    return min(values), max(values)"
   ]
  },
  {
   "cell_type": "code",
   "execution_count": 15,
   "id": "3d9348b4-77f2-4495-a298-7f27d715117c",
   "metadata": {},
   "outputs": [
    {
     "name": "stdout",
     "output_type": "stream",
     "text": [
      "Min: 1 Max: 4\n",
      "{(10, 20): 'Point A', (30, 40): 'Point B'}\n"
     ]
    }
   ],
   "source": [
    "mn, mx = min_max([3, 1, 4, 2])\n",
    "print(\"Min:\", mn, \"Max:\", mx)\n",
    "\n",
    "# 14. Tuple as a Dictionary Key (immutable property)\n",
    "coords = {}\n",
    "coords[(10, 20)] = \"Point A\"\n",
    "coords[(30, 40)] = \"Point B\"\n",
    "print(coords)"
   ]
  },
  {
   "cell_type": "code",
   "execution_count": 16,
   "id": "239a2891-69ef-4009-bb50-a6a53fa95089",
   "metadata": {},
   "outputs": [
    {
     "name": "stdout",
     "output_type": "stream",
     "text": [
      "Error: 'tuple' object does not support item assignment\n",
      "t1 is t2: True\n"
     ]
    }
   ],
   "source": [
    "# 15. Immutability Demonstration + Assignment vs Slicing in Tuples\n",
    "t1 = (1, 2, 3)\n",
    "try:\n",
    "    t1[0] = 100\n",
    "except TypeError as e:\n",
    "    print(\"Error:\", e)\n",
    "\n",
    "# Reference assignment (same object)\n",
    "t2 = t1\n",
    "print(\"t1 is t2:\", t1 is t2)  # True"
   ]
  },
  {
   "cell_type": "code",
   "execution_count": 17,
   "id": "ecee705f-5601-492d-a04c-7fdc91ccf234",
   "metadata": {},
   "outputs": [
    {
     "name": "stdout",
     "output_type": "stream",
     "text": [
      "t1 is t3: True\n",
      "t1: (1, 2, 3)\n",
      "t4: (1, 2)\n",
      "t1 is t4: False\n"
     ]
    }
   ],
   "source": [
    "# Slicing in tuples\n",
    "t3 = t1[:]  # This actually returns the same object for a full slice\n",
    "print(\"t1 is t3:\", t1 is t3)  # True\n",
    "\n",
    "# Proof that slicing doesn't create a new tuple unless slicing changes length\n",
    "t4 = t1[0:2]\n",
    "print(\"t1:\", t1)\n",
    "print(\"t4:\", t4)\n",
    "print(\"t1 is t4:\", t1 is t4)  # False (different length → new tuple)\n",
    "\n",
    "# Tuples are immutable, so even \"copy\" operations don’t allow modification"
   ]
  },
  {
   "cell_type": "code",
   "execution_count": 18,
   "id": "5d54e73a-51b7-4846-8f08-7f2ae25bf456",
   "metadata": {},
   "outputs": [
    {
     "name": "stdout",
     "output_type": "stream",
     "text": [
      "(0, 1, 4, 9, 16)\n"
     ]
    }
   ],
   "source": [
    "# 16. Tuple Comprehension (actually generator → tuple)\n",
    "squared = tuple(x*x for x in range(5))\n",
    "print(squared)"
   ]
  },
  {
   "cell_type": "code",
   "execution_count": null,
   "id": "2ac29231-f9a4-455e-a88d-1835da3e61d2",
   "metadata": {},
   "outputs": [],
   "source": [
    "'''PEP 4 ensures that Python’s standard library remains maintainable and relevant. \n",
    "As modules grow obsolete, this process guides developers and the community on how to phase them out \n",
    "thoughtfully instead of abruptly removing them without notice or plan.'''"
   ]
  }
 ],
 "metadata": {
  "kernelspec": {
   "display_name": "Python 3 (ipykernel)",
   "language": "python",
   "name": "python3"
  },
  "language_info": {
   "codemirror_mode": {
    "name": "ipython",
    "version": 3
   },
   "file_extension": ".py",
   "mimetype": "text/x-python",
   "name": "python",
   "nbconvert_exporter": "python",
   "pygments_lexer": "ipython3",
   "version": "3.12.4"
  }
 },
 "nbformat": 4,
 "nbformat_minor": 5
}
